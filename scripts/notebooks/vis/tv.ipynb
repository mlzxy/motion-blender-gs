{
 "cells": [
  {
   "cell_type": "markdown",
   "metadata": {},
   "source": [
    "# TV\n",
    "\n",
    "This notebook visualzes plotter states that are saved from other programs. The reason being that pyvista has a conflicted zmq version with vscode jupyter. As a result, using pyvista plotter will cause vscode jupyter to crash during debugging. The solution I have is to save the visualization data and plot them in a separate jupyter session without trigger the debugging function. "
   ]
  },
  {
   "cell_type": "code",
   "execution_count": 1,
   "metadata": {},
   "outputs": [
    {
     "name": "stdout",
     "output_type": "stream",
     "text": [
      "/scratch/xz653/code/shape-of-motion\n"
     ]
    }
   ],
   "source": [
    "GIT_ROOT_LINES = !git rev-parse --show-toplevel\n",
    "WORK_DIR = GIT_ROOT_LINES[0]\n",
    "%cd $WORK_DIR\n",
    "%load_ext autoreload\n",
    "%autoreload 2"
   ]
  },
  {
   "cell_type": "code",
   "execution_count": 2,
   "metadata": {},
   "outputs": [
    {
     "name": "stderr",
     "output_type": "stream",
     "text": [
      "\u001b[32m2025-05-11 20:17:27.898\u001b[0m | \u001b[1mINFO    \u001b[0m | \u001b[36mmotionblender.lib.pv\u001b[0m:\u001b[36murl\u001b[0m:\u001b[36m498\u001b[0m - \u001b[1mpyvista viewer url: http://localhost:8891/index.html?ui=P_0x2ac9dfdae110_0&reconnect=auto\u001b[0m\n"
     ]
    },
    {
     "name": "stdout",
     "output_type": "stream",
     "text": [
      "http://localhost:8891/index.html?ui=P_0x2ac9dfdae110_0&reconnect=auto\n"
     ]
    }
   ],
   "source": [
    "import ipywidgets as widgets\n",
    "from IPython.display import display\n",
    "import os.path as osp\n",
    "import motionblender.lib.pv as pv\n",
    "\n",
    "from pyvista.plotting.themes import _TrameConfig\n",
    "_TrameConfig.jupyter_server_port = 8891\n",
    "\n",
    "plotter = pv.Plotter(backend='from:/dev/shm/pvlib.state', enable_point_cursor=False, frame_selection=True)\n",
    "print(plotter.url)"
   ]
  },
  {
   "cell_type": "code",
   "execution_count": 3,
   "metadata": {},
   "outputs": [
    {
     "data": {
      "application/vnd.jupyter.widget-view+json": {
       "model_id": "ec9d25b377274e17a7a33a6627546478",
       "version_major": 2,
       "version_minor": 0
      },
      "text/plain": [
       "interactive(children=(Text(value='/dev/shm/pvlib.state', description='Pvstate:', layout=Layout(height='50px', …"
      ]
     },
     "metadata": {},
     "output_type": "display_data"
    }
   ],
   "source": [
    "@widgets.interact(pvstate_path=widgets.Text(\n",
    "    value='/dev/shm/pvlib.state',\n",
    "    placeholder='/dev/shm/pvlib.state',\n",
    "    description='Pvstate:',\n",
    "    disabled=False,\n",
    "    layout=widgets.Layout(width='900px', height='50px')  # Set width and height\n",
    "))\n",
    "def text_input_function(pvstate_path):\n",
    "    pvstate_path = pvstate_path.strip()\n",
    "    if osp.exists(pvstate_path) and osp.isfile(pvstate_path):\n",
    "        plotter.backend=f\"from:{pvstate_path}\"\n",
    "        proxy_url = 'http://localhost:8080/proxy/' + plotter.url.split('localhost')[1][1:]\n",
    "        print('available urls: ')\n",
    "        print('\\t' + proxy_url)\n",
    "        print('\\t' + plotter.url)\n",
    "        plotter.render()\n",
    "    else:\n",
    "        print(\"File does not exist\")\n",
    "        "
   ]
  },
  {
   "cell_type": "code",
   "execution_count": 5,
   "metadata": {},
   "outputs": [
    {
     "name": "stderr",
     "output_type": "stream",
     "text": [
      "\u001b[32m2025-05-11 20:22:26.853\u001b[0m | \u001b[1mINFO    \u001b[0m | \u001b[36mmotionblender.lib.pv\u001b[0m:\u001b[36mrender\u001b[0m:\u001b[36m156\u001b[0m - \u001b[1mrendering from outputs/robot/robot/vis/end/robot-1.pvstate\u001b[0m\n"
     ]
    }
   ],
   "source": [
    "# if the above widget interaction is not working, you can use the following code to load the pvstate file\n",
    "pvstate_path = \"outputs/robot/robot/vis/end/robot-1.pvstate\"\n",
    "plotter.backend=f\"from:{pvstate_path}\"\n",
    "plotter.render()"
   ]
  },
  {
   "cell_type": "code",
   "execution_count": 7,
   "metadata": {},
   "outputs": [],
   "source": [
    "plotter.clear()"
   ]
  },
  {
   "cell_type": "code",
   "execution_count": null,
   "metadata": {},
   "outputs": [],
   "source": [
    "plotter.pc_position # point cursor position"
   ]
  },
  {
   "cell_type": "code",
   "execution_count": 7,
   "metadata": {},
   "outputs": [],
   "source": [
    "plotter.plotter.export_obj('outputs/scene.obj') # export scene as as mesh .obj file"
   ]
  }
 ],
 "metadata": {
  "kernelspec": {
   "display_name": "Python 3",
   "language": "python",
   "name": "python3"
  },
  "language_info": {
   "codemirror_mode": {
    "name": "ipython",
    "version": 3
   },
   "file_extension": ".py",
   "mimetype": "text/x-python",
   "name": "python",
   "nbconvert_exporter": "python",
   "pygments_lexer": "ipython3",
   "version": "3.10.16"
  }
 },
 "nbformat": 4,
 "nbformat_minor": 2
}
