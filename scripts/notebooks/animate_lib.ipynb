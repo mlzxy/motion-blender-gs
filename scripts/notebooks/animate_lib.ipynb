{
 "cells": [
  {
   "cell_type": "code",
   "execution_count": 1,
   "metadata": {},
   "outputs": [
    {
     "name": "stdout",
     "output_type": "stream",
     "text": [
      "/scratch/xz653/code/shape-of-motion\n"
     ]
    }
   ],
   "source": [
    "GIT_ROOT_LINES = !git rev-parse --show-toplevel\n",
    "WORK_DIR = GIT_ROOT_LINES[0]\n",
    "%cd $WORK_DIR\n",
    "%load_ext autoreload\n",
    "%autoreload 2"
   ]
  },
  {
   "cell_type": "code",
   "execution_count": 2,
   "metadata": {},
   "outputs": [],
   "source": [
    "from icecream import ic\n",
    "import pyvista as pv\n",
    "from copy import deepcopy\n",
    "from pyvista import examples\n",
    "from motionblender.lib.animate import *\n",
    "from tqdm.auto import tqdm, trange\n",
    "\n",
    "pv.set_jupyter_backend('trame')\n",
    "pv.set_plot_theme('paraview')"
   ]
  },
  {
   "cell_type": "code",
   "execution_count": 3,
   "metadata": {},
   "outputs": [
    {
     "name": "stdout",
     "output_type": "stream",
     "text": [
      "http://localhost:40690/index.html?ui=P_0x2ada0be4c7f0_0&reconnect=auto\n"
     ]
    },
    {
     "name": "stderr",
     "output_type": "stream",
     "text": [
      "wslink is not expecting text message:\n",
      "> \n",
      "wslink is not expecting text message:\n",
      "> \n",
      "wslink is not expecting text message:\n",
      "> \n",
      "wslink is not expecting text message:\n",
      "> \n",
      "wslink is not expecting text message:\n",
      "> \n",
      "wslink is not expecting text message:\n",
      "> \n"
     ]
    }
   ],
   "source": [
    "def vis_link(joints, connections, prefix=\"\"):\n",
    "    colors = ['green', 'blue', 'yellow', 'purple', 'orange', 'white', 'black']\n",
    "    for i, joint in enumerate(joints):\n",
    "        plotter['instance'].add_mesh(pv.Sphere(center=joint, radius=0.1), color=colors[i], name=f'{prefix}joint-{i}')\n",
    "    for i, connection in enumerate(connections):\n",
    "        joint1 = joints[connection[0]]\n",
    "        joint2 = joints[connection[1]]\n",
    "        plotter['instance'].add_mesh(pv.Tube(joint1, joint2, radius=0.05), color='red', name=f'{prefix}tube-{i}')\n",
    "        \n",
    "def clear_plotter():\n",
    "    try:\n",
    "        plotter['instance'].Startpos = {'curve': 12, 'mask': 12}\n",
    "        plotter['instance'].clear()\n",
    "        plotter['instance'].clear_slider_widgets()\n",
    "        plotter['instance'].clear_button_widgets()\n",
    "    except NameError:\n",
    "        pass\n",
    "\n",
    "def close_plotter(): # close it before debugging!\n",
    "    plotter['cam_pos'] = plotter['instance'].camera.position\n",
    "    plotter['roll'] = plotter['instance'].camera.roll\n",
    "    plotter['azimuth'] = plotter['instance'].camera.azimuth\n",
    "    plotter['elevation'] = plotter['instance'].camera.elevation\n",
    "    plotter['instance'].close()\n",
    "    plotter['instance'] = None\n",
    "    import gc\n",
    "    gc.collect()\n",
    "\n",
    "def open_plotter():\n",
    "    plotter['instance'] = new_plotter()\n",
    "    if 'cam_pos' in plotter:\n",
    "        plotter['instance'].camera.position = plotter['cam_pos']\n",
    "        plotter['instance'].camera.roll = plotter['roll']\n",
    "        plotter['instance'].camera.azimuth = plotter['azimuth']\n",
    "        plotter['instance'].camera.elevation = plotter['elevation']\n",
    "\n",
    "\n",
    "try:\n",
    "    v = plotter['instance'].show(return_viewer=True)\n",
    "    print(v.value.split(\"src=\\\"\")[1].split(\"\\\"\")[0])\n",
    "except:\n",
    "    if 'plotter' not in globals():\n",
    "        plotter = {'instance': pv.Plotter(notebook=True)}\n",
    "    else:\n",
    "        open_plotter()\n",
    "    v = plotter['instance'].show(return_viewer=True)\n",
    "    print(v.value.split(\"src=\\\"\")[1].split(\"\\\"\")[0])"
   ]
  },
  {
   "cell_type": "markdown",
   "metadata": {},
   "source": [
    "# Basics\n",
    "\n",
    "The following code generates simple deformable graph and kinematic tree, and verifies some basic APIs from `animate.py`."
   ]
  },
  {
   "cell_type": "markdown",
   "metadata": {},
   "source": [
    "## Deformable Graph"
   ]
  },
  {
   "cell_type": "code",
   "execution_count": 4,
   "metadata": {},
   "outputs": [],
   "source": [
    "clear_plotter()\n",
    "\n",
    "N = 10000\n",
    "joints = torch.as_tensor([\n",
    "    [0, 0, 0], \n",
    "    [0, 0, 1],\n",
    "    [0, 0, 2] \n",
    "]).float()\n",
    "\n",
    "new_joints = torch.randn_like(joints)\n",
    "\n",
    "triangles = torch.as_tensor([\n",
    "    [[1, 0], [1, 2]]\n",
    "])\n",
    "connections = triangles.reshape(-1, 2)\n",
    "\n",
    "xyz = torch.from_numpy(np.concatenate([np.random.normal(0, 0.25, size=(N, 2)), np.random.uniform(-0.5, 2.5, size=(N, 1))], axis=1)).float()\n",
    "\n",
    "xyz_weights = weight_inpaint(xyz, joints, connections, gamma=1.0, temperature=0.1)\n",
    "_, _, falloff = compute_distance_from_link(xyz, joints[connections[:, 0]], joints[connections[:, 1]]) # projection \n",
    "\n",
    "def rpt(x):\n",
    "    return repeat(x, 'a b -> (p a) b', p=N)\n",
    "\n",
    "normals = rpt(compute_normals(new_joints, triangles.long()))\n",
    "\n",
    "deform_mats = find_T_between_poses(\n",
    "                    find_link_ctrl_pt_pose(rpt(joints[connections[:, 0]]), rpt(joints[connections[:, 1]]), normals, falloff.flatten()),\n",
    "                    find_link_ctrl_pt_pose(rpt(new_joints[connections[:, 0]]), rpt(new_joints[connections[:, 1]]), normals, falloff.flatten()))\n",
    "deform_mats = rearrange(deform_mats, '(p m) a b -> p m a b', m=len(connections))\n",
    "\n",
    "final_xyz = apply_mat4(skinning(xyz_weights, deform_mats, blend_mode='dq'), xyz) # apply deformation from graph links to points\n",
    "\n",
    "vis_link(new_joints, connections)\n",
    "plotter['instance'].add_mesh(pv.PolyData(final_xyz.numpy()), point_size=4, render_points_as_spheres=False, opacity=1.0,\n",
    "                             name=\"pts\", scalars=xyz_weights.numpy()[:, 1], cmap='viridis');\n"
   ]
  },
  {
   "cell_type": "markdown",
   "metadata": {},
   "source": [
    "## Kinematic Chain"
   ]
  },
  {
   "cell_type": "code",
   "execution_count": 5,
   "metadata": {},
   "outputs": [
    {
     "name": "stdout",
     "output_type": "stream",
     "text": [
      "============= original =============\n",
      "tensor([[ 0.0000,  0.0000,  0.0000],\n",
      "        [ 0.7482,  0.5937,  0.2962],\n",
      "        [ 1.2687,  0.8478, -0.5190],\n",
      "        [ 1.2352,  0.1177, -1.2016]])\n",
      "============= recover =============\n",
      "tensor([[ 0.0000,  0.0000,  0.0000],\n",
      "        [ 0.7482,  0.5937,  0.2962],\n",
      "        [ 1.2687,  0.8478, -0.5190],\n",
      "        [ 1.2352,  0.1177, -1.2016]])\n"
     ]
    }
   ],
   "source": [
    "clear_plotter()\n",
    "\n",
    "N = 10000\n",
    "joints = torch.as_tensor([\n",
    "    [0, 0, 0], \n",
    "    [0, 0, 1],\n",
    "    [0, 0, 2],\n",
    "    [0, 0, 3]\n",
    "]).float()\n",
    "connections = [(0, 1), (1, 2), (2, 3)]\n",
    "new_joints = joints.clone()\n",
    "chain = inverse_kinematic(joints, connections)\n",
    "\n",
    "chain['chain'][0]['rot6d'] = rmat_to_cont_6d(roma.euler_to_rotmat('xyz', [30, 70, 70], degrees=True))\n",
    "chain['chain'][0]['chain'][0]['rot6d'] =  rmat_to_cont_6d(roma.euler_to_rotmat('xyz', [45, 65, 30], degrees=True))\n",
    "chain['chain'][0]['chain'][0]['chain'][0]['rot6d'] =  rmat_to_cont_6d(roma.euler_to_rotmat('xyz', [45, 60, 0], degrees=True))\n",
    "\n",
    "new_joints[1:] = forward_kinematic(chain)[:, :3, 3]\n",
    "\n",
    "new_chain = inverse_kinematic(new_joints, connections) # reconstruct kinematic tree from just joints and links \n",
    "new_joints_recover = new_joints.clone()\n",
    "new_joints_recover[1:] = forward_kinematic(new_chain)[:, :3, 3]\n",
    "print('============= original =============')\n",
    "print(new_joints)\n",
    "print('============= recover =============')\n",
    "print(new_joints_recover)\n",
    "assert torch.allclose(new_joints, new_joints_recover)\n",
    "\n",
    "vis_link(new_joints_recover, connections)"
   ]
  },
  {
   "cell_type": "markdown",
   "metadata": {},
   "source": [
    "# Learning\n",
    "\n",
    "The following code generate some random points, and then fit a graph structure to align with the points. Here we assume the weight (soft connections) between the points and graphs are predefined. "
   ]
  },
  {
   "cell_type": "markdown",
   "metadata": {},
   "source": [
    "## Kinematic Chain"
   ]
  },
  {
   "cell_type": "code",
   "execution_count": 6,
   "metadata": {},
   "outputs": [],
   "source": [
    "clear_plotter()\n",
    "N = 10000\n",
    "joints = torch.as_tensor([\n",
    "    [0, 0, 0], \n",
    "    [0, 0, 1],\n",
    "    [0, 0, 2],\n",
    "    [0, 0, 3]\n",
    "]).float()\n",
    "connections = [(0, 1), (1, 2), (2, 3)]\n",
    "xyz = torch.from_numpy(np.concatenate([np.random.normal(0, 0.25, size=(N, 2)), \n",
    "                                       np.random.uniform(joints.min().item()-0.5, joints.max().item()+0.5, size=(N, 1))], axis=1)).float()\n",
    "\n",
    "\n",
    "xyz_weights = weight_inpaint(xyz, joints, torch.as_tensor(connections), gamma=1.0, temperature=0.1)\n",
    "new_joints = joints.clone()\n",
    "chain = inverse_kinematic(joints, connections)\n",
    "init_chain = deepcopy(chain)\n",
    "old_link_poses = forward_kinematic(chain)\n",
    "\n",
    "chain['chain'][0]['rot6d'] = rmat_to_cont_6d(roma.euler_to_rotmat('xyz', [30, 70, 70], degrees=True))\n",
    "chain['chain'][0]['chain'][0]['rot6d'] =  rmat_to_cont_6d(roma.euler_to_rotmat('xyz', [45, 65, 30], degrees=True))\n",
    "chain['chain'][0]['chain'][0]['chain'][0]['rot6d'] =  rmat_to_cont_6d(roma.euler_to_rotmat('xyz', [45, 0, 0], degrees=True))\n",
    "\n",
    "new_link_poses = forward_kinematic(chain)\n",
    "new_joints[1:] = new_link_poses[:, :3, 3]\n",
    "\n",
    "mat4 = find_T_between_poses(old_link_poses, new_link_poses)\n",
    "final_xyz = apply_mat4(skinning(xyz_weights, mat4, blend_mode='dq'), xyz)\n",
    "\n",
    "# --- VISUALIZATION --- #\n",
    "# the plotter now visualizes displaced points and graph\n",
    "# before\n",
    "vis_link(joints, connections, prefix=\"original-\") \n",
    "# plotter['instance'].add_mesh(pv.PolyData(xyz.numpy()), point_size=4, render_points_as_spheres=False, opacity=0.5, \n",
    "#                              name=\"pts-before\", scalars=xyz_weights.numpy()[:, -1], cmap='viridis');\n",
    "\n",
    "# after\n",
    "# vis_link(new_joints, connections, prefix=\"new-\")\n",
    "plotter['instance'].add_mesh(pv.PolyData(final_xyz.numpy()), point_size=4, render_points_as_spheres=False, opacity=0.5, \n",
    "                             name=\"pts-new\", scalars=xyz_weights.numpy()[:, -1], cmap='viridis');"
   ]
  },
  {
   "cell_type": "code",
   "execution_count": 7,
   "metadata": {},
   "outputs": [],
   "source": [
    "def to_parameter_chain(chain: KinematicLink, \n",
    "            length_inv_activation: Callable=lambda x: x, \n",
    "            rot_inv_activation: Callable=lambda x: x) \\\n",
    "            -> KinematicLink:\n",
    "    \"\"\" return the same chain, but replace dict with ParameterDict, and \n",
    "    apply the inv activation\"\"\"\n",
    "    new_chain = nn.ParameterDict()\n",
    "    \n",
    "    def walk(from_c, to_c):\n",
    "        to_c['id'] = from_c['id']\n",
    "        if from_c.get('length', None) is not None:\n",
    "            to_c['length'] = nn.Parameter(length_inv_activation(from_c['length']), requires_grad=True)\n",
    "            to_c['rot6d'] = nn.Parameter(rot_inv_activation(from_c['rot6d']), requires_grad=True)\n",
    "        \n",
    "        to_c['chain'] = nn.ParameterList()\n",
    "        for child in from_c.get('chain', []):\n",
    "            to_c['chain'].append(nn.ParameterDict())\n",
    "            walk(child, to_c['chain'][-1])\n",
    "\n",
    "    walk(chain, new_chain)\n",
    "    return new_chain"
   ]
  },
  {
   "cell_type": "code",
   "execution_count": 8,
   "metadata": {},
   "outputs": [
    {
     "data": {
      "application/vnd.jupyter.widget-view+json": {
       "model_id": "65d292b6e1a347f8bfc15a1a2836159a",
       "version_major": 2,
       "version_minor": 0
      },
      "text/plain": [
       "  0%|          | 0/1000 [00:00<?, ?it/s]"
      ]
     },
     "metadata": {},
     "output_type": "display_data"
    },
    {
     "name": "stdout",
     "output_type": "stream",
     "text": [
      "1.1545584201812744\n",
      "1.0416420698165894\n",
      "0.9306448101997375\n",
      "0.7828100323677063\n",
      "0.5491570234298706\n",
      "0.29944494366645813\n",
      "0.25183573365211487\n",
      "0.24004189670085907\n",
      "0.23307541012763977\n",
      "0.22679348289966583\n",
      "0.23553216457366943\n",
      "0.2253325879573822\n",
      "0.21686141192913055\n",
      "0.2082044780254364\n",
      "0.1998181790113449\n",
      "0.19207166135311127\n",
      "0.18476508557796478\n",
      "0.17809826135635376\n",
      "0.14708375930786133\n",
      "0.13309122622013092\n"
     ]
    }
   ],
   "source": [
    "pchain = to_parameter_chain(init_chain)\n",
    "opt = optim.Adam(pchain.parameters(), lr=1e-3)\n",
    "\n",
    "def train_step():\n",
    "    \"\"\" \n",
    "    depends on pre-generated: old_link_poses, xyz_weights, final_xyz\n",
    "    \"\"\"\n",
    "    new_link_poses = forward_kinematic(pchain)\n",
    "    mat4 = find_T_between_poses(old_link_poses, new_link_poses)\n",
    "    xyz_after_skinning = apply_mat4(skinning(xyz_weights, mat4, blend_mode='dq'), xyz)\n",
    "    return F.l1_loss(xyz_after_skinning, final_xyz)\n",
    "\n",
    "for i in trange(1000):\n",
    "    opt.zero_grad()\n",
    "    loss = train_step()\n",
    "    loss.backward()\n",
    "    opt.step()\n",
    "    if i % 50 == 0:\n",
    "        print(loss.item())"
   ]
  },
  {
   "cell_type": "code",
   "execution_count": 9,
   "metadata": {},
   "outputs": [],
   "source": [
    "clear_plotter()\n",
    "plotter['instance'].add_mesh(pv.PolyData(final_xyz.numpy()), point_size=4, render_points_as_spheres=False, opacity=0.5, \n",
    "                             name=\"pts-new\", scalars=xyz_weights.numpy()[:, -1], cmap='viridis')\n",
    "with torch.no_grad():\n",
    "    learned_link_poss = forward_kinematic(pchain)\n",
    "    learned_joints = joints.clone()\n",
    "    learned_joints[1:] = learned_link_poss[:, :3, 3]\n",
    "    vis_link(learned_joints, connections, prefix=\"learned-\")\n",
    "    "
   ]
  },
  {
   "cell_type": "markdown",
   "metadata": {},
   "source": [
    "## Deformable Grid"
   ]
  },
  {
   "cell_type": "code",
   "execution_count": 18,
   "metadata": {},
   "outputs": [],
   "source": [
    "clear_plotter()\n",
    "\n",
    "N = 10000\n",
    "joints = torch.as_tensor([\n",
    "    [0, 0, 0], \n",
    "    [0, 0, 1],\n",
    "    [0, 0, 2] \n",
    "]).float()\n",
    "\n",
    "new_joints = torch.randn_like(joints)\n",
    "\n",
    "triangles = torch.as_tensor([\n",
    "    [[1, 0], [1, 2]]\n",
    "])\n",
    "connections = triangles.reshape(-1, 2)\n",
    "\n",
    "xyz = torch.from_numpy(np.concatenate([np.random.normal(0, 0.25, size=(N, 2)), np.random.uniform(-0.5, 2.5, size=(N, 1))], axis=1)).float()\n",
    "\n",
    "\n",
    "\n",
    "\n",
    "xyz_weights = weight_inpaint(xyz, joints, connections, gamma=1.0, temperature=0.1)\n",
    "_, _, falloff = compute_distance_from_link(xyz, joints[connections[:, 0]], joints[connections[:, 1]]) \n",
    "\n",
    "def rpt(x): return repeat(x, 'a b -> (p a) b', p=N)\n",
    "\n",
    "origin_normals = rpt(compute_normals(joints, triangles.long()))\n",
    "normals = rpt(compute_normals(new_joints, triangles.long()))\n",
    "\n",
    "deform_mats = find_T_between_poses(\n",
    "                    find_link_ctrl_pt_pose(rpt(joints[connections[:, 0]]), rpt(joints[connections[:, 1]]), normals, falloff.flatten()),\n",
    "                    find_link_ctrl_pt_pose(rpt(new_joints[connections[:, 0]]), rpt(new_joints[connections[:, 1]]), normals, falloff.flatten()))\n",
    "deform_mats = rearrange(deform_mats, '(p m) a b -> p m a b', m=len(connections))\n",
    "final_xyz = apply_mat4(skinning(xyz_weights, deform_mats, blend_mode='dq'), xyz)\n",
    "\n",
    "vis_link(joints, connections) # before\n",
    "# plotter['instance'].add_mesh(pv.PolyData(xyz.numpy()), point_size=4, render_points_as_spheres=False, opacity=1.0,\n",
    "#                              name=\"pts\", scalars=xyz_weights.numpy()[:, 1], cmap='viridis'); # after\n",
    "\n",
    "# vis_link(new_joints, connections) # after\n",
    "plotter['instance'].add_mesh(pv.PolyData(final_xyz.numpy()), point_size=4, render_points_as_spheres=False, opacity=1.0,\n",
    "                             name=\"pts\", scalars=xyz_weights.numpy()[:, 1], cmap='viridis'); # after"
   ]
  },
  {
   "cell_type": "code",
   "execution_count": 19,
   "metadata": {},
   "outputs": [
    {
     "data": {
      "application/vnd.jupyter.widget-view+json": {
       "model_id": "e8087bf7c2b24a9c87942dc53b52af82",
       "version_major": 2,
       "version_minor": 0
      },
      "text/plain": [
       "  0%|          | 0/1000 [00:00<?, ?it/s]"
      ]
     },
     "metadata": {},
     "output_type": "display_data"
    },
    {
     "name": "stdout",
     "output_type": "stream",
     "text": [
      "0.863994836807251\n",
      "0.6059651970863342\n",
      "0.44048967957496643\n",
      "0.3776163160800934\n",
      "0.34170520305633545\n",
      "0.3229825794696808\n",
      "0.316812127828598\n",
      "0.31532153487205505\n",
      "0.31496870517730713\n",
      "0.31491872668266296\n",
      "0.3149138391017914\n",
      "0.31491294503211975\n",
      "0.31491291522979736\n",
      "0.314912885427475\n",
      "0.31491294503211975\n",
      "0.3149128556251526\n",
      "0.31491291522979736\n",
      "0.31491294503211975\n",
      "0.31491294503211975\n",
      "0.31491294503211975\n"
     ]
    }
   ],
   "source": [
    "pjoints = nn.Parameter(joints.clone(), requires_grad=True)  # after avoiding the use of arun, much better\n",
    "\n",
    "opt = optim.Adam([pjoints], lr=1e-2)\n",
    "\n",
    "def train_step():\n",
    "    \"\"\" \n",
    "    depends on pre-generated: xyz, xyz_weights, final_xyz, falloff, connections, triangles\n",
    "    \"\"\"\n",
    "    def rpt(x): return repeat(x, 'a b -> (p a) b', p=len(xyz))\n",
    "    pred_normals = compute_normals(pjoints, triangles.long())\n",
    "    # illegal_normals = torch.all(pred_normals == 0, dim=1)\n",
    "    # pred_normals[illegal_normals] = origin_normals[illegal_normals]\n",
    "    pred_normals = rpt(pred_normals)\n",
    "    deform_mats = find_T_between_poses(\n",
    "                    find_link_ctrl_pt_pose(rpt(joints[connections[:, 0]]), rpt(joints[connections[:, 1]]), origin_normals, falloff.flatten()),\n",
    "                    find_link_ctrl_pt_pose(rpt(pjoints[connections[:, 0]]), rpt(pjoints[connections[:, 1]]), pred_normals, falloff.flatten()))\n",
    "    deform_mats = rearrange(deform_mats, '(p m) a b -> p m a b', m=len(connections))\n",
    "\n",
    "    xyz_after_skinning = apply_mat4(skinning(xyz_weights, deform_mats, blend_mode='dq'), xyz)\n",
    "    return F.l1_loss(xyz_after_skinning, final_xyz)\n",
    "\n",
    "for i in trange(1000):\n",
    "    opt.zero_grad()\n",
    "    loss = train_step()\n",
    "    loss.backward()\n",
    "    opt.step()\n",
    "    if i % 50 == 0:\n",
    "        print(loss.item())"
   ]
  },
  {
   "cell_type": "code",
   "execution_count": 20,
   "metadata": {},
   "outputs": [
    {
     "ename": "",
     "evalue": "",
     "output_type": "error",
     "traceback": [
      "\u001b[1;31mThe Kernel crashed while executing code in the current cell or a previous cell. \n",
      "\u001b[1;31mPlease review the code in the cell(s) to identify a possible cause of the failure. \n",
      "\u001b[1;31mClick <a href='https://aka.ms/vscodeJupyterKernelCrash'>here</a> for more info. \n",
      "\u001b[1;31mView Jupyter <a href='command:jupyter.viewOutput'>log</a> for further details."
     ]
    }
   ],
   "source": [
    "clear_plotter()\n",
    "plotter['instance'].add_mesh(pv.PolyData(final_xyz.numpy()), point_size=4, render_points_as_spheres=False, opacity=0.5, \n",
    "                             name=\"pts-new\", scalars=xyz_weights.numpy()[:, -1], cmap='viridis')\n",
    "with torch.no_grad():\n",
    "    learned_joints = pjoints.detach().clone()\n",
    "    vis_link(learned_joints, connections, prefix=\"learned-\")\n",
    "    "
   ]
  },
  {
   "cell_type": "code",
   "execution_count": null,
   "metadata": {},
   "outputs": [],
   "source": []
  }
 ],
 "metadata": {
  "kernelspec": {
   "display_name": "Python 3",
   "language": "python",
   "name": "python3"
  },
  "language_info": {
   "codemirror_mode": {
    "name": "ipython",
    "version": 3
   },
   "file_extension": ".py",
   "mimetype": "text/x-python",
   "name": "python",
   "nbconvert_exporter": "python",
   "pygments_lexer": "ipython3",
   "version": "3.10.16"
  }
 },
 "nbformat": 4,
 "nbformat_minor": 2
}
